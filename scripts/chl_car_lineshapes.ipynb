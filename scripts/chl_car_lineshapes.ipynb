{
 "cells": [
  {
   "cell_type": "code",
   "execution_count": 9,
   "metadata": {},
   "outputs": [],
   "source": [
    "import numpy as np; import matplotlib.pyplot as plt\n",
    "\n",
    "direc = \"/home/callum/code/spectra/out/NLLZ/7_PROD_2/2/1000\"\n",
    "cvac = 299792458.0\n",
    "\n",
    "wn = np.array([i / (2048 * cvac * 100 * 1E-15) for i in range(2048)])\n",
    "\n",
    "# note that these rates won't match the C code - i'm not calculating the couplings or FC overlaps here\n",
    "for car_index in range(16,32):\n",
    "    for chl_index in range(14):\n",
    "        car_file = \"{}/car_{:02d}.dat\".format(direc, car_index)\n",
    "        chl_file = \"{}/chl_{:02d}.dat\".format(direc, chl_index)\n",
    "        car = np.loadtxt(car_file)\n",
    "        chl = np.loadtxt(chl_file)\n",
    "        car_to_chl = car * chl[:, 0]\n",
    "        chl_to_car = car * chl[:, 1]\n",
    "        fig, ax = plt.subplots(2, sharex=True)\n",
    "        ax[0].plot(wn, car, label=r'car')\n",
    "        ax[0].plot(wn, chl[:, 0], label=r'chl $A(\\omega)$')\n",
    "        ax[0].plot(wn, chl[:, 1], label=r'chl $F(\\omega)$')\n",
    "        car_to_chl_rate = np.trapz(car_to_chl)\n",
    "        chl_to_car_rate = np.trapz(chl_to_car)\n",
    "        ax[1].plot(wn, car_to_chl, label=r'car $ \\rightarrow $ chl, overlap = {:10.6f}'.format(car_to_chl_rate))\n",
    "        ax[1].plot(wn, chl_to_car, label=r'chl $ \\rightarrow $ car, overlap = {:10.6f}'.format(chl_to_car_rate))\n",
    "        ax[0].legend(); ax[1].legend()\n",
    "        ax[1].set_xlabel(\"Wavenumber $ (cm^{-1}) $\")\n",
    "        ax[0].set_xlim([10000,20000])\n",
    "        plt.savefig(\"{}/car_{:02d}_chl_{:02d}.pdf\".format(direc, car_index, chl_index))\n",
    "        plt.close(fig)"
   ]
  },
  {
   "cell_type": "code",
   "execution_count": null,
   "metadata": {},
   "outputs": [],
   "source": []
  }
 ],
 "metadata": {
  "kernelspec": {
   "display_name": "Python 3",
   "language": "python",
   "name": "python3"
  },
  "language_info": {
   "codemirror_mode": {
    "name": "ipython",
    "version": 3
   },
   "file_extension": ".py",
   "mimetype": "text/x-python",
   "name": "python",
   "nbconvert_exporter": "python",
   "pygments_lexer": "ipython3",
   "version": "3.7.7"
  }
 },
 "nbformat": 4,
 "nbformat_minor": 4
}
