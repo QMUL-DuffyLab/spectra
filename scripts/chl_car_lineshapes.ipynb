{
 "cells": [
  {
   "cell_type": "code",
   "execution_count": null,
   "metadata": {},
   "outputs": [],
   "source": [
    "import numpy as np; import matplotlib.pyplot as plt\n",
    "\n",
    "def rate_cm_to_rate_ps(rate_cm): # stolen from chris' python code\n",
    "    return((200.0E-12*pi*c_vac*rate_cm))\n",
    "\n",
    "def overlap(direc, chl_index, car_index, plot):\n",
    "    car_file = \"{}/car_{:02d}.dat\".format(direc, car_index)\n",
    "    chl_file = \"{}/chl_{:02d}.dat\".format(direc, chl_index)\n",
    "    car = np.loadtxt(car_file)\n",
    "    chl = np.loadtxt(chl_file)\n",
    "    # uncomment the following three lines to check that the integrals are properly normalised (wrt the set of wavenumbers we generated above!)\n",
    "    #print(\"integral of car lineshape = {:10.6e}\".format(np.trapz(car, x=wn)))\n",
    "    #print(\"integral of chl a(w) lineshape = {:10.6e}\".format(np.trapz(chl[:, 0], x=wn)))\n",
    "    #print(\"integral of chl f(w) lineshape = {:10.6e}\".format(np.trapz(chl[:, 1], x=wn)))\n",
    "    # chlorophyll lineshapes in these files are saved as a(\\omega), f(\\omega)\n",
    "    car_to_chl = car * chl[:, 0]\n",
    "    chl_to_car = car * chl[:, 1]\n",
    "    car_to_chl_overlap = np.trapz(car_to_chl, x=wn)\n",
    "    chl_to_car_overlap = np.trapz(chl_to_car, x=wn)\n",
    "    print(\"{:2d} {:2d} {:10.6e} {:10.6e}\".format(chl_index, car_index, chl_to_car_overlap, car_to_chl_overlap))\n",
    "    # plot stuff\n",
    "    if (plot):\n",
    "        fig, ax = plt.subplots(2, sharex=True)\n",
    "        ax[0].plot(wn, car, label=r'car')\n",
    "        ax[0].plot(wn, chl[:, 0], label=r'chl $A(\\omega)$')\n",
    "        ax[0].plot(wn, chl[:, 1], label=r'chl $F(\\omega)$')\n",
    "        ax[1].plot(wn, car_to_chl, label=r'car $ \\rightarrow $ chl, overlap = {:10.6f}'.format(car_to_chl_overlap))\n",
    "        ax[1].plot(wn, chl_to_car, label=r'chl $ \\rightarrow $ car, overlap = {:10.6f}'.format(chl_to_car_overlap))\n",
    "        ax[0].legend(); ax[1].legend()\n",
    "        ax[1].set_xlabel(\"Wavenumber $ (cm^{-1}) $\")\n",
    "        ax[0].set_xlim([10000,20000])\n",
    "        plt.savefig(\"{}/car_{:02d}_chl_{:02d}.pdf\".format(direc, car_index, chl_index))\n",
    "        plt.show()\n",
    "        plt.close(fig)\n",
    "\n",
    "    # we append this to an array to check against the overlaps i calculate in the C++\n",
    "    return [chl_index, car_index, chl_to_car_overlap, car_to_chl_overlap]\n",
    "\n",
    "\n",
    "direc = \"/home/callum/code/spectra/out/NLLZ/7_PROD_2/2/1000\"\n",
    "cvac = 299792458.0\n",
    "ns = 2048\n",
    "n_chl = 14\n",
    "eig = np.loadtxt(\"{}/eigvecs.out\".format(direc))\n",
    "Jij = np.loadtxt(\"{}/J_ij.out\".format(direc))\n",
    "with np.printoptions(precision=3, suppress=True, linewidth=np.nan):\n",
    "    print(eig)\n",
    "    print(Jij)\n",
    "\n",
    "# this is the set of wavenumbers we generate spectra for - we need them to integrate over in the trapz calls\n",
    "wn = np.array([i / (ns * cvac * 100 * 1E-15) for i in range(ns)])"
   ]
  },
  {
   "cell_type": "code",
   "execution_count": null,
   "metadata": {},
   "outputs": [],
   "source": [
    "# note that FC overlaps aren't included here\n",
    "print(\"Calculated exciton-carotenoid couplings:\")\n",
    "for chl_index in range(n_chl):\n",
    "    for lut in range(n_chl,n_chl + 2): # lut 1 and 2 are the final two rows/columns in the eigenvector/coupling matrices\n",
    "        ji = 0.0\n",
    "        for m in range(n_chl):\n",
    "           #ji += eig[m, chl_index] * eig[n, chl_index] * Jij[m, lut] * Jij[n, lut]\n",
    "           ji += eig[m, chl_index] * Jij[m, lut]\n",
    "           #print(eig[m, chl_index], eig[n, chl_index], Jij[m, lut], Jij[n, lut], eig[m, chl_index] * eig[n, chl_index] * Jij[m, lut] * Jij[n, lut], ji)\n",
    "            \n",
    "        if (lut == 14):\n",
    "            print(\"{:2d} {} {:10.6e}\".format(chl_index, \"620\", ji))\n",
    "        else:\n",
    "            print(\"{:2d} {} {:10.6e}\".format(chl_index, \"621\", ji))\n",
    "\n",
    "            \n",
    "overlaps = []\n",
    "print(\"\\nExciton-vibronic overlaps:\")\n",
    "for chl_index in range(n_chl):\n",
    "    for car_index in range(16):\n",
    "        overlaps.append(overlap(direc, chl_index, car_index, False))"
   ]
  },
  {
   "cell_type": "code",
   "execution_count": null,
   "metadata": {},
   "outputs": [],
   "source": [
    "# the numbering of the carotenoid states is different in the C++ code, so just take the columns with the overlaps in and compare those\n",
    "py_overlaps = np.transpose(np.array(overlaps))\n",
    "c_overlaps  = np.transpose(np.array(np.loadtxt(\"../out/overlaps.dat\")))\n",
    "print(np.allclose(py_overlaps[2], c_overlaps[2]))\n",
    "print(np.allclose(py_overlaps[3], c_overlaps[3]))"
   ]
  }
 ],
 "metadata": {
  "kernelspec": {
   "display_name": "Python 3",
   "language": "python",
   "name": "python3"
  },
  "language_info": {
   "codemirror_mode": {
    "name": "ipython",
    "version": 3
   },
   "file_extension": ".py",
   "mimetype": "text/x-python",
   "name": "python",
   "nbconvert_exporter": "python",
   "pygments_lexer": "ipython3",
   "version": "3.7.7"
  }
 },
 "nbformat": 4,
 "nbformat_minor": 4
}
